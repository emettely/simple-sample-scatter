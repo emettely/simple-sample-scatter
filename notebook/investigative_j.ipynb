{
 "cells": [
  {
   "cell_type": "markdown",
   "metadata": {},
   "source": [
    "## START"
   ]
  },
  {
   "cell_type": "code",
   "execution_count": 2,
   "metadata": {},
   "outputs": [],
   "source": [
    "import numpy as np # linear algebra\n",
    "import pandas as pd # data processing, CSV file I/O (e.g. pd.read_csv)\n",
    "import warnings\n",
    "warnings.filterwarnings('ignore')\n",
    "import matplotlib.pyplot as plt\n",
    "import matplotlib\n",
    "# visualisation\n",
    "%matplotlib inline\n",
    "matplotlib.style.use('ggplot')\n",
    "import seaborn as sns\n",
    "sns.set_style(\"whitegrid\")"
   ]
  },
  {
   "cell_type": "code",
   "execution_count": 3,
   "metadata": {},
   "outputs": [
    {
     "name": "stdout",
     "output_type": "stream",
     "text": [
      "(2058408, 57)\n"
     ]
    },
    {
     "data": {
      "text/html": [
       "<div>\n",
       "<style scoped>\n",
       "    .dataframe tbody tr th:only-of-type {\n",
       "        vertical-align: middle;\n",
       "    }\n",
       "\n",
       "    .dataframe tbody tr th {\n",
       "        vertical-align: top;\n",
       "    }\n",
       "\n",
       "    .dataframe thead th {\n",
       "        text-align: right;\n",
       "    }\n",
       "</style>\n",
       "<table border=\"1\" class=\"dataframe\">\n",
       "  <thead>\n",
       "    <tr style=\"text-align: right;\">\n",
       "      <th></th>\n",
       "      <th>Accident_Index</th>\n",
       "      <th>Age_Band_of_Driver</th>\n",
       "      <th>Age_of_Vehicle</th>\n",
       "      <th>Driver_Home_Area_Type</th>\n",
       "      <th>Driver_IMD_Decile</th>\n",
       "      <th>Engine_Capacity_.CC.</th>\n",
       "      <th>Hit_Object_in_Carriageway</th>\n",
       "      <th>Hit_Object_off_Carriageway</th>\n",
       "      <th>Journey_Purpose_of_Driver</th>\n",
       "      <th>Junction_Location</th>\n",
       "      <th>...</th>\n",
       "      <th>Police_Force</th>\n",
       "      <th>Road_Surface_Conditions</th>\n",
       "      <th>Road_Type</th>\n",
       "      <th>Special_Conditions_at_Site</th>\n",
       "      <th>Speed_limit</th>\n",
       "      <th>Time</th>\n",
       "      <th>Urban_or_Rural_Area</th>\n",
       "      <th>Weather_Conditions</th>\n",
       "      <th>Year_y</th>\n",
       "      <th>InScotland</th>\n",
       "    </tr>\n",
       "  </thead>\n",
       "  <tbody>\n",
       "    <tr>\n",
       "      <th>0</th>\n",
       "      <td>200501BS00002</td>\n",
       "      <td>36 - 45</td>\n",
       "      <td>3.0</td>\n",
       "      <td>Data missing or out of range</td>\n",
       "      <td>NaN</td>\n",
       "      <td>8268.0</td>\n",
       "      <td>None</td>\n",
       "      <td>None</td>\n",
       "      <td>Journey as part of work</td>\n",
       "      <td>Leaving roundabout</td>\n",
       "      <td>...</td>\n",
       "      <td>Metropolitan Police</td>\n",
       "      <td>Dry</td>\n",
       "      <td>Dual carriageway</td>\n",
       "      <td>None</td>\n",
       "      <td>30.0</td>\n",
       "      <td>17:36</td>\n",
       "      <td>Urban</td>\n",
       "      <td>Fine no high winds</td>\n",
       "      <td>2005</td>\n",
       "      <td>No</td>\n",
       "    </tr>\n",
       "    <tr>\n",
       "      <th>1</th>\n",
       "      <td>200501BS00003</td>\n",
       "      <td>26 - 35</td>\n",
       "      <td>5.0</td>\n",
       "      <td>Urban area</td>\n",
       "      <td>3.0</td>\n",
       "      <td>8300.0</td>\n",
       "      <td>Parked vehicle</td>\n",
       "      <td>None</td>\n",
       "      <td>Journey as part of work</td>\n",
       "      <td>Not at or within 20 metres of junction</td>\n",
       "      <td>...</td>\n",
       "      <td>Metropolitan Police</td>\n",
       "      <td>Dry</td>\n",
       "      <td>Single carriageway</td>\n",
       "      <td>None</td>\n",
       "      <td>30.0</td>\n",
       "      <td>00:15</td>\n",
       "      <td>Urban</td>\n",
       "      <td>Fine no high winds</td>\n",
       "      <td>2005</td>\n",
       "      <td>No</td>\n",
       "    </tr>\n",
       "    <tr>\n",
       "      <th>2</th>\n",
       "      <td>200501BS00004</td>\n",
       "      <td>46 - 55</td>\n",
       "      <td>4.0</td>\n",
       "      <td>Urban area</td>\n",
       "      <td>1.0</td>\n",
       "      <td>1769.0</td>\n",
       "      <td>None</td>\n",
       "      <td>None</td>\n",
       "      <td>Other/Not known (2005-10)</td>\n",
       "      <td>Not at or within 20 metres of junction</td>\n",
       "      <td>...</td>\n",
       "      <td>Metropolitan Police</td>\n",
       "      <td>Dry</td>\n",
       "      <td>Single carriageway</td>\n",
       "      <td>None</td>\n",
       "      <td>30.0</td>\n",
       "      <td>10:35</td>\n",
       "      <td>Urban</td>\n",
       "      <td>Fine no high winds</td>\n",
       "      <td>2005</td>\n",
       "      <td>No</td>\n",
       "    </tr>\n",
       "    <tr>\n",
       "      <th>3</th>\n",
       "      <td>200501BS00005</td>\n",
       "      <td>46 - 55</td>\n",
       "      <td>10.0</td>\n",
       "      <td>Data missing or out of range</td>\n",
       "      <td>NaN</td>\n",
       "      <td>85.0</td>\n",
       "      <td>Kerb</td>\n",
       "      <td>None</td>\n",
       "      <td>Other/Not known (2005-10)</td>\n",
       "      <td>Not at or within 20 metres of junction</td>\n",
       "      <td>...</td>\n",
       "      <td>Metropolitan Police</td>\n",
       "      <td>Wet or damp</td>\n",
       "      <td>Single carriageway</td>\n",
       "      <td>None</td>\n",
       "      <td>30.0</td>\n",
       "      <td>21:13</td>\n",
       "      <td>Urban</td>\n",
       "      <td>Fine no high winds</td>\n",
       "      <td>2005</td>\n",
       "      <td>No</td>\n",
       "    </tr>\n",
       "    <tr>\n",
       "      <th>4</th>\n",
       "      <td>200501BS00006</td>\n",
       "      <td>46 - 55</td>\n",
       "      <td>1.0</td>\n",
       "      <td>Urban area</td>\n",
       "      <td>4.0</td>\n",
       "      <td>2976.0</td>\n",
       "      <td>None</td>\n",
       "      <td>None</td>\n",
       "      <td>Other/Not known (2005-10)</td>\n",
       "      <td>Not at or within 20 metres of junction</td>\n",
       "      <td>...</td>\n",
       "      <td>Metropolitan Police</td>\n",
       "      <td>Wet or damp</td>\n",
       "      <td>Single carriageway</td>\n",
       "      <td>Oil or diesel</td>\n",
       "      <td>30.0</td>\n",
       "      <td>12:40</td>\n",
       "      <td>Urban</td>\n",
       "      <td>Raining no high winds</td>\n",
       "      <td>2005</td>\n",
       "      <td>No</td>\n",
       "    </tr>\n",
       "  </tbody>\n",
       "</table>\n",
       "<p>5 rows × 57 columns</p>\n",
       "</div>"
      ],
      "text/plain": [
       "  Accident_Index Age_Band_of_Driver  Age_of_Vehicle  \\\n",
       "0  200501BS00002            36 - 45             3.0   \n",
       "1  200501BS00003            26 - 35             5.0   \n",
       "2  200501BS00004            46 - 55             4.0   \n",
       "3  200501BS00005            46 - 55            10.0   \n",
       "4  200501BS00006            46 - 55             1.0   \n",
       "\n",
       "          Driver_Home_Area_Type  Driver_IMD_Decile  Engine_Capacity_.CC.  \\\n",
       "0  Data missing or out of range                NaN                8268.0   \n",
       "1                    Urban area                3.0                8300.0   \n",
       "2                    Urban area                1.0                1769.0   \n",
       "3  Data missing or out of range                NaN                  85.0   \n",
       "4                    Urban area                4.0                2976.0   \n",
       "\n",
       "  Hit_Object_in_Carriageway Hit_Object_off_Carriageway  \\\n",
       "0                      None                       None   \n",
       "1            Parked vehicle                       None   \n",
       "2                      None                       None   \n",
       "3                      Kerb                       None   \n",
       "4                      None                       None   \n",
       "\n",
       "   Journey_Purpose_of_Driver                       Junction_Location  \\\n",
       "0    Journey as part of work                      Leaving roundabout   \n",
       "1    Journey as part of work  Not at or within 20 metres of junction   \n",
       "2  Other/Not known (2005-10)  Not at or within 20 metres of junction   \n",
       "3  Other/Not known (2005-10)  Not at or within 20 metres of junction   \n",
       "4  Other/Not known (2005-10)  Not at or within 20 metres of junction   \n",
       "\n",
       "      ...             Police_Force Road_Surface_Conditions  \\\n",
       "0     ...      Metropolitan Police                     Dry   \n",
       "1     ...      Metropolitan Police                     Dry   \n",
       "2     ...      Metropolitan Police                     Dry   \n",
       "3     ...      Metropolitan Police             Wet or damp   \n",
       "4     ...      Metropolitan Police             Wet or damp   \n",
       "\n",
       "            Road_Type Special_Conditions_at_Site Speed_limit   Time  \\\n",
       "0    Dual carriageway                       None        30.0  17:36   \n",
       "1  Single carriageway                       None        30.0  00:15   \n",
       "2  Single carriageway                       None        30.0  10:35   \n",
       "3  Single carriageway                       None        30.0  21:13   \n",
       "4  Single carriageway              Oil or diesel        30.0  12:40   \n",
       "\n",
       "  Urban_or_Rural_Area     Weather_Conditions Year_y  InScotland  \n",
       "0               Urban     Fine no high winds   2005          No  \n",
       "1               Urban     Fine no high winds   2005          No  \n",
       "2               Urban     Fine no high winds   2005          No  \n",
       "3               Urban     Fine no high winds   2005          No  \n",
       "4               Urban  Raining no high winds   2005          No  \n",
       "\n",
       "[5 rows x 57 columns]"
      ]
     },
     "execution_count": 3,
     "metadata": {},
     "output_type": "execute_result"
    }
   ],
   "source": [
    "#Load Data and encode to latin\n",
    "acc = pd.read_csv('/Users/vissea01/Downloads/Accident_Information.csv', encoding = 'latin')\n",
    "veh = pd.read_csv('/Users/vissea01/Downloads/Vehicle_Information.csv', encoding = 'latin')\n",
    "\n",
    "# Merging two data sets into one with inner join by index\n",
    "df = pd.merge(veh, acc, how = 'inner', on = 'Accident_Index')\n",
    "\n",
    "#Check data sample\n",
    "print(df.shape)\n",
    "df.head()"
   ]
  },
  {
   "cell_type": "code",
   "execution_count": 57,
   "metadata": {
    "collapsed": true
   },
   "outputs": [],
   "source": [
    "df['Accident_Severity'].replace({'Fatal':2, 'Serious':1, 'Slight':0}, inplace=True, regex=True)"
   ]
  },
  {
   "cell_type": "code",
   "execution_count": 117,
   "metadata": {
    "collapsed": true
   },
   "outputs": [],
   "source": [
    "df.to_csv('/Users/vissea01/Downloads/r_a_uk_data.csv')"
   ]
  },
  {
   "cell_type": "code",
   "execution_count": 45,
   "metadata": {},
   "outputs": [
    {
     "name": "stdout",
     "output_type": "stream",
     "text": [
      "Accident_Index\n",
      "Age_Band_of_Driver\n",
      "Age_of_Vehicle\n",
      "Driver_Home_Area_Type\n",
      "Driver_IMD_Decile\n",
      "Engine_Capacity_.CC.\n",
      "Hit_Object_in_Carriageway\n",
      "Hit_Object_off_Carriageway\n",
      "Journey_Purpose_of_Driver\n",
      "Junction_Location\n",
      "make\n",
      "model\n",
      "Propulsion_Code\n",
      "Sex_of_Driver\n",
      "Skidding_and_Overturning\n",
      "Towing_and_Articulation\n",
      "Vehicle_Leaving_Carriageway\n",
      "Vehicle_Location.Restricted_Lane\n",
      "Vehicle_Manoeuvre\n",
      "Vehicle_Reference\n",
      "Vehicle_Type\n",
      "Was_Vehicle_Left_Hand_Drive\n",
      "X1st_Point_of_Impact\n",
      "Year_x\n",
      "1st_Road_Class\n",
      "1st_Road_Number\n",
      "2nd_Road_Class\n",
      "2nd_Road_Number\n",
      "Accident_Severity\n",
      "Carriageway_Hazards\n",
      "Date\n",
      "Day_of_Week\n",
      "Did_Police_Officer_Attend_Scene_of_Accident\n",
      "Junction_Control\n",
      "Junction_Detail\n",
      "Latitude\n",
      "Light_Conditions\n",
      "Local_Authority_(District)\n",
      "Local_Authority_(Highway)\n",
      "Location_Easting_OSGR\n",
      "Location_Northing_OSGR\n",
      "Longitude\n",
      "LSOA_of_Accident_Location\n",
      "Number_of_Casualties\n",
      "Number_of_Vehicles\n",
      "Pedestrian_Crossing-Human_Control\n",
      "Pedestrian_Crossing-Physical_Facilities\n",
      "Police_Force\n",
      "Road_Surface_Conditions\n",
      "Road_Type\n",
      "Special_Conditions_at_Site\n",
      "Speed_limit\n",
      "Time\n",
      "Urban_or_Rural_Area\n",
      "Weather_Conditions\n",
      "Year_y\n",
      "InScotland\n"
     ]
    }
   ],
   "source": [
    "def get_features(df):\n",
    "    for col in df.columns:\n",
    "        print(col)\n",
    "get_features(df)"
   ]
  },
  {
   "cell_type": "markdown",
   "metadata": {},
   "source": [
    "#### Types of features"
   ]
  },
  {
   "cell_type": "code",
   "execution_count": 46,
   "metadata": {},
   "outputs": [
    {
     "name": "stdout",
     "output_type": "stream",
     "text": [
      "This data set contains:\n",
      "Number of categorical features:  38\n",
      "Number of numerical features:  19\n"
     ]
    }
   ],
   "source": [
    "def count_features(df):\n",
    "    count = df.dtypes.value_counts()\n",
    "    print('This data set contains:')\n",
    "    c=0\n",
    "    for i in count.index:\n",
    "        if i == 'object':\n",
    "            print('Number of categorical features: ', count[i])\n",
    "        if i == 'float64':\n",
    "            c=count[i]\n",
    "        if i == 'int64':\n",
    "            c += count[i]\n",
    "    print('Number of numerical features: ', c)\n",
    "count_features(df)"
   ]
  },
  {
   "cell_type": "markdown",
   "metadata": {},
   "source": [
    "#### Sample data"
   ]
  },
  {
   "cell_type": "code",
   "execution_count": 124,
   "metadata": {},
   "outputs": [
    {
     "data": {
      "text/plain": [
       "(40000, 58)"
      ]
     },
     "execution_count": 124,
     "metadata": {},
     "output_type": "execute_result"
    }
   ],
   "source": [
    "def sample(df):\n",
    "    sample = df.sample(40000)\n",
    "    return sample\n",
    "sample = sample(df)\n",
    "sample.shape"
   ]
  },
  {
   "cell_type": "code",
   "execution_count": 125,
   "metadata": {
    "collapsed": true
   },
   "outputs": [],
   "source": [
    "sample.to_csv('/Users/vissea01/Downloads/sample_data.csv')"
   ]
  },
  {
   "cell_type": "markdown",
   "metadata": {},
   "source": [
    "#### Drop missing data point"
   ]
  },
  {
   "cell_type": "code",
   "execution_count": 43,
   "metadata": {},
   "outputs": [],
   "source": [
    "def drop_nan(df):\n",
    "    df = df.dropna()\n",
    "    return(df)\n",
    "sample = drop_nan(sample)"
   ]
  },
  {
   "cell_type": "code",
   "execution_count": 113,
   "metadata": {},
   "outputs": [],
   "source": [
    "def draw_simple_chart(df,att1,att2):\n",
    "    g=df.groupby(att1)[[att2]].count()\n",
    "    g.reset_index(inplace=True)\n",
    "    fig, ax = plt.subplots(figsize=(20, 8))\n",
    "    plt.xticks(rotation=90)\n",
    "    g = sns.barplot(x=att1,y=att2,data=g, color='#44083e')\n",
    "    plt.tick_params(\n",
    "        axis='x',          # changes apply to the x-axis\n",
    "        which='both',      # both major and minor ticks are affected\n",
    "        bottom=False,      # ticks along the bottom edge are off\n",
    "        top=False,         # ticks along the top edge are off\n",
    "        #labelbottom=False\n",
    "    ) # labels along the bottom edge are off\n",
    "\n",
    "    ax.set(xlabel=att1, ylabel='Count') #rename y\n",
    "    ax.grid(False)\n",
    "    #plt.tight_layout() # or fig.tight_layout() to avoid cutting x-labels when saving png\n",
    "    #plt.show()\n",
    "    fig.savefig('png/graph.png')"
   ]
  },
  {
   "cell_type": "code",
   "execution_count": 114,
   "metadata": {},
   "outputs": [
    {
     "data": {
      "image/png": "[encoded data removed]",
      "text/plain": [
       "<matplotlib.figure.Figure at 0x2192cdb70>"
      ]
     },
     "metadata": {},
     "output_type": "display_data"
    }
   ],
   "source": [
    "draw_simple_chart(df,'Year_x','Accident_Index')"
   ]
  },
  {
   "cell_type": "code",
   "execution_count": 115,
   "metadata": {},
   "outputs": [
    {
     "data": {
      "image/png": "[encoded data removed]",
      "text/plain": [
       "<matplotlib.figure.Figure at 0x20bb06dd8>"
      ]
     },
     "metadata": {},
     "output_type": "display_data"
    }
   ],
   "source": [
    "draw_simple_chart(df,'Age_of_Vehicle','Accident_Index')"
   ]
  },
  {
   "cell_type": "code",
   "execution_count": 116,
   "metadata": {},
   "outputs": [
    {
     "data": {
      "image/png": "[encoded data removed]",
      "text/plain": [
       "<matplotlib.figure.Figure at 0x10e660860>"
      ]
     },
     "metadata": {},
     "output_type": "display_data"
    }
   ],
   "source": [
    "draw_simple_chart(df,'Age_Band_of_Driver','Accident_Index')"
   ]
  },
  {
   "cell_type": "code",
   "execution_count": 110,
   "metadata": {},
   "outputs": [],
   "source": [
    "def plot_corr(df, att1, att2, att3, att4, att5, att6):\n",
    "    #, att6, att7, att8, att9, att10\n",
    "    df1 = df[[att1, att2, att3, att4, att5, att6]]\n",
    "    corr = df1.corr()\n",
    "    fig, ax = plt.subplots(figsize=(8, 8))\n",
    "    cax = ax.matshow(df1, interpolation='nearest')\n",
    "    ax.matshow(corr)\n",
    "    fig.colorbar(cax)\n",
    "    plt.xticks(range(len(corr.columns)), corr.columns);\n",
    "    plt.yticks(range(len(corr.columns)), corr.columns);\n",
    "    ax.set_xticklabels(ax.get_xticklabels(),rotation=90)\n",
    "    fig.savefig('png/graph.png')"
   ]
  },
  {
   "cell_type": "code",
   "execution_count": 111,
   "metadata": {},
   "outputs": [
    {
     "data": {
      "image/png": "[encoded data removed]",
      "text/plain": [
       "<matplotlib.figure.Figure at 0x27fb34470>"
      ]
     },
     "metadata": {},
     "output_type": "display_data"
    }
   ],
   "source": [
    "plot_corr(df, 'Age_of_Vehicle', 'Engine_Capacity_.CC.', 'Number_of_Casualties',\n",
    "                 'Accident_Severity','Speed_limit','Number_of_Vehicles')"
   ]
  },
  {
   "cell_type": "code",
   "execution_count": 109,
   "metadata": {},
   "outputs": [
    {
     "name": "stdout",
     "output_type": "stream",
     "text": [
      "Top Absolute Correlations: \n",
      "Number_of_Casualties  Number_of_Vehicles    0.382233\n",
      "Speed_limit           Number_of_Vehicles    0.161661\n",
      "Number_of_Casualties  Speed_limit           0.148506\n",
      "dtype: float64\n"
     ]
    }
   ],
   "source": [
    "def get_redundant_pairs(df):\n",
    "    '''Get diagonal and lower triangular pairs of correlation matrix'''\n",
    "    pairs_to_drop = set()\n",
    "    cols = df.columns\n",
    "    for i in range(0, df.shape[1]):\n",
    "        for j in range(0, i+1):\n",
    "            pairs_to_drop.add((cols[i], cols[j]))\n",
    "    return pairs_to_drop\n",
    "\n",
    "def get_top_abs_correlations(df, n=5):\n",
    "    au_corr = df.corr().abs().unstack()\n",
    "    labels_to_drop = get_redundant_pairs(df)\n",
    "    au_corr = au_corr.drop(labels=labels_to_drop).sort_values(ascending=False)\n",
    "    print(au_corr[0:n])\n",
    "    return au_corr[0:n]\n",
    "\n",
    "def print_corr(df2):\n",
    "    print(\"Top Absolute Correlations: \")\n",
    "    get_top_abs_correlations(df2, 3)\n",
    "\n",
    "print_corr(df2)"
   ]
  },
  {
   "cell_type": "code",
   "execution_count": null,
   "metadata": {
    "collapsed": true
   },
   "outputs": [],
   "source": []
  },
  {
   "cell_type": "code",
   "execution_count": null,
   "metadata": {
    "collapsed": true
   },
   "outputs": [],
   "source": []
  },
  {
   "cell_type": "code",
   "execution_count": null,
   "metadata": {
    "collapsed": true
   },
   "outputs": [],
   "source": []
  },
  {
   "cell_type": "code",
   "execution_count": null,
   "metadata": {
    "collapsed": true
   },
   "outputs": [],
   "source": []
  },
  {
   "cell_type": "code",
   "execution_count": null,
   "metadata": {
    "collapsed": true
   },
   "outputs": [],
   "source": []
  },
  {
   "cell_type": "code",
   "execution_count": null,
   "metadata": {
    "collapsed": true
   },
   "outputs": [],
   "source": []
  }
 ],
 "metadata": {
  "kernelspec": {
   "display_name": "Python 3",
   "language": "python",
   "name": "python3"
  },
  "language_info": {
   "codemirror_mode": {
    "name": "ipython",
    "version": 3
   },
   "file_extension": ".py",
   "mimetype": "text/x-python",
   "name": "python",
   "nbconvert_exporter": "python",
   "pygments_lexer": "ipython3",
   "version": "3.7.2"
  }
 },
 "nbformat": 4,
 "nbformat_minor": 2
}
